{
  "nbformat": 4,
  "nbformat_minor": 0,
  "metadata": {
    "colab": {
      "provenance": [],
      "gpuType": "V28",
      "authorship_tag": "ABX9TyPO4CV95eeGJl9xVRW8ibs2",
      "include_colab_link": true
    },
    "kernelspec": {
      "name": "python3",
      "display_name": "Python 3"
    },
    "language_info": {
      "name": "python"
    },
    "accelerator": "TPU"
  },
  "cells": [
    {
      "cell_type": "markdown",
      "metadata": {
        "id": "view-in-github",
        "colab_type": "text"
      },
      "source": [
        "<a href=\"https://colab.research.google.com/github/KushagraD006/SFEGNN-vs-GNC/blob/main/GCN_vs_SFEGNN.ipynb\" target=\"_parent\"><img src=\"https://colab.research.google.com/assets/colab-badge.svg\" alt=\"Open In Colab\"/></a>"
      ]
    },
    {
      "cell_type": "code",
      "source": [
        "!pip install torch torchvision torchaudio\n",
        "!pip install torch-scatter torch-sparse -f https://data.pyg.org/whl/torch-2.0.0+cpu.html\n",
        "!pip install torch-geometric\n"
      ],
      "metadata": {
        "colab": {
          "base_uri": "https://localhost:8080/"
        },
        "id": "ZZZ2PoHLpuHy",
        "outputId": "adcd3f13-142a-4f70-db7a-ea33e7aaff78"
      },
      "execution_count": null,
      "outputs": [
        {
          "output_type": "stream",
          "name": "stdout",
          "text": [
            "Requirement already satisfied: torch in /usr/local/lib/python3.11/dist-packages (2.6.0+cpu)\n",
            "Requirement already satisfied: torchvision in /usr/local/lib/python3.11/dist-packages (0.21.0+cpu)\n",
            "Requirement already satisfied: torchaudio in /usr/local/lib/python3.11/dist-packages (2.6.0+cpu)\n",
            "Requirement already satisfied: filelock in /usr/local/lib/python3.11/dist-packages (from torch) (3.18.0)\n",
            "Requirement already satisfied: typing-extensions>=4.10.0 in /usr/local/lib/python3.11/dist-packages (from torch) (4.13.2)\n",
            "Requirement already satisfied: networkx in /usr/local/lib/python3.11/dist-packages (from torch) (3.4.2)\n",
            "Requirement already satisfied: jinja2 in /usr/local/lib/python3.11/dist-packages (from torch) (3.1.6)\n",
            "Requirement already satisfied: fsspec in /usr/local/lib/python3.11/dist-packages (from torch) (2025.3.2)\n",
            "Requirement already satisfied: sympy==1.13.1 in /usr/local/lib/python3.11/dist-packages (from torch) (1.13.1)\n",
            "Requirement already satisfied: mpmath<1.4,>=1.1.0 in /usr/local/lib/python3.11/dist-packages (from sympy==1.13.1->torch) (1.3.0)\n",
            "Requirement already satisfied: numpy in /usr/local/lib/python3.11/dist-packages (from torchvision) (2.0.2)\n",
            "Requirement already satisfied: pillow!=8.3.*,>=5.3.0 in /usr/local/lib/python3.11/dist-packages (from torchvision) (11.2.1)\n",
            "Requirement already satisfied: MarkupSafe>=2.0 in /usr/local/lib/python3.11/dist-packages (from jinja2->torch) (3.0.2)\n",
            "Looking in links: https://data.pyg.org/whl/torch-2.0.0+cpu.html\n",
            "Collecting torch-scatter\n",
            "  Downloading https://data.pyg.org/whl/torch-2.0.0%2Bcpu/torch_scatter-2.1.2%2Bpt20cpu-cp311-cp311-linux_x86_64.whl (494 kB)\n",
            "\u001b[2K     \u001b[90m━━━━━━━━━━━━━━━━━━━━━━━━━━━━━━━━━━━━━━━\u001b[0m \u001b[32m494.0/494.0 kB\u001b[0m \u001b[31m7.9 MB/s\u001b[0m eta \u001b[36m0:00:00\u001b[0m\n",
            "\u001b[?25hCollecting torch-sparse\n",
            "  Downloading https://data.pyg.org/whl/torch-2.0.0%2Bcpu/torch_sparse-0.6.18%2Bpt20cpu-cp311-cp311-linux_x86_64.whl (1.2 MB)\n",
            "\u001b[2K     \u001b[90m━━━━━━━━━━━━━━━━━━━━━━━━━━━━━━━━━━━━━━━━\u001b[0m \u001b[32m1.2/1.2 MB\u001b[0m \u001b[31m29.3 MB/s\u001b[0m eta \u001b[36m0:00:00\u001b[0m\n",
            "\u001b[?25hRequirement already satisfied: scipy in /usr/local/lib/python3.11/dist-packages (from torch-sparse) (1.15.3)\n",
            "Requirement already satisfied: numpy<2.5,>=1.23.5 in /usr/local/lib/python3.11/dist-packages (from scipy->torch-sparse) (2.0.2)\n",
            "Installing collected packages: torch-scatter, torch-sparse\n",
            "Successfully installed torch-scatter-2.1.2+pt20cpu torch-sparse-0.6.18+pt20cpu\n",
            "Collecting torch-geometric\n",
            "  Downloading torch_geometric-2.6.1-py3-none-any.whl.metadata (63 kB)\n",
            "\u001b[2K     \u001b[90m━━━━━━━━━━━━━━━━━━━━━━━━━━━━━━━━━━━━━━━━\u001b[0m \u001b[32m63.1/63.1 kB\u001b[0m \u001b[31m1.9 MB/s\u001b[0m eta \u001b[36m0:00:00\u001b[0m\n",
            "\u001b[?25hRequirement already satisfied: aiohttp in /usr/local/lib/python3.11/dist-packages (from torch-geometric) (3.11.15)\n",
            "Requirement already satisfied: fsspec in /usr/local/lib/python3.11/dist-packages (from torch-geometric) (2025.3.2)\n",
            "Requirement already satisfied: jinja2 in /usr/local/lib/python3.11/dist-packages (from torch-geometric) (3.1.6)\n",
            "Requirement already satisfied: numpy in /usr/local/lib/python3.11/dist-packages (from torch-geometric) (2.0.2)\n",
            "Requirement already satisfied: psutil>=5.8.0 in /usr/local/lib/python3.11/dist-packages (from torch-geometric) (5.9.5)\n",
            "Requirement already satisfied: pyparsing in /usr/local/lib/python3.11/dist-packages (from torch-geometric) (3.2.3)\n",
            "Requirement already satisfied: requests in /usr/local/lib/python3.11/dist-packages (from torch-geometric) (2.32.3)\n",
            "Requirement already satisfied: tqdm in /usr/local/lib/python3.11/dist-packages (from torch-geometric) (4.67.1)\n",
            "Requirement already satisfied: aiohappyeyeballs>=2.3.0 in /usr/local/lib/python3.11/dist-packages (from aiohttp->torch-geometric) (2.6.1)\n",
            "Requirement already satisfied: aiosignal>=1.1.2 in /usr/local/lib/python3.11/dist-packages (from aiohttp->torch-geometric) (1.3.2)\n",
            "Requirement already satisfied: attrs>=17.3.0 in /usr/local/lib/python3.11/dist-packages (from aiohttp->torch-geometric) (25.3.0)\n",
            "Requirement already satisfied: frozenlist>=1.1.1 in /usr/local/lib/python3.11/dist-packages (from aiohttp->torch-geometric) (1.6.0)\n",
            "Requirement already satisfied: multidict<7.0,>=4.5 in /usr/local/lib/python3.11/dist-packages (from aiohttp->torch-geometric) (6.4.3)\n",
            "Requirement already satisfied: propcache>=0.2.0 in /usr/local/lib/python3.11/dist-packages (from aiohttp->torch-geometric) (0.3.1)\n",
            "Requirement already satisfied: yarl<2.0,>=1.17.0 in /usr/local/lib/python3.11/dist-packages (from aiohttp->torch-geometric) (1.20.0)\n",
            "Requirement already satisfied: MarkupSafe>=2.0 in /usr/local/lib/python3.11/dist-packages (from jinja2->torch-geometric) (3.0.2)\n",
            "Requirement already satisfied: charset-normalizer<4,>=2 in /usr/local/lib/python3.11/dist-packages (from requests->torch-geometric) (3.4.2)\n",
            "Requirement already satisfied: idna<4,>=2.5 in /usr/local/lib/python3.11/dist-packages (from requests->torch-geometric) (3.10)\n",
            "Requirement already satisfied: urllib3<3,>=1.21.1 in /usr/local/lib/python3.11/dist-packages (from requests->torch-geometric) (2.4.0)\n",
            "Requirement already satisfied: certifi>=2017.4.17 in /usr/local/lib/python3.11/dist-packages (from requests->torch-geometric) (2025.4.26)\n",
            "Downloading torch_geometric-2.6.1-py3-none-any.whl (1.1 MB)\n",
            "\u001b[2K   \u001b[90m━━━━━━━━━━━━━━━━━━━━━━━━━━━━━━━━━━━━━━━━\u001b[0m \u001b[32m1.1/1.1 MB\u001b[0m \u001b[31m17.8 MB/s\u001b[0m eta \u001b[36m0:00:00\u001b[0m\n",
            "\u001b[?25hInstalling collected packages: torch-geometric\n",
            "Successfully installed torch-geometric-2.6.1\n"
          ]
        }
      ]
    },
    {
      "cell_type": "code",
      "source": [
        "import pandas as pd\n",
        "import torch\n",
        "from sklearn.preprocessing import StandardScaler\n",
        "from torch_geometric.data import Data\n",
        "\n",
        "# Load your dataset\n",
        "df = pd.read_csv(\"/content/transaction_dataset.csv\")  # Upload your file to Colab\n",
        "\n",
        "# Clean and select features\n",
        "drop_cols = ['Unnamed: 0', 'Index', 'Address', 'FLAG',\n",
        "             'ERC20 most sent token type', 'ERC20_most_rec_token_type']\n",
        "features = df.drop(columns=[col for col in drop_cols if col in df.columns])\n",
        "\n",
        "# Keep only numeric columns\n",
        "features = features.select_dtypes(include=['int64', 'float64'])\n",
        "\n",
        "labels = df['FLAG']\n",
        "\n",
        "# Normalize features\n",
        "scaler = StandardScaler()\n",
        "X = torch.tensor(scaler.fit_transform(features), dtype=torch.float)\n",
        "y = torch.tensor(labels.values, dtype=torch.long)\n",
        "\n",
        "\n",
        "# Create simple synthetic edge connections (for demo, until real tx edges used)\n",
        "edge_index = torch.tensor([[i, i + 1] for i in range(len(df) - 1)], dtype=torch.long).t().contiguous()\n",
        "edge_index = torch.cat([edge_index, edge_index[[1, 0]]], dim=1)\n",
        "\n",
        "# Create graph data object\n",
        "data = Data(x=X, edge_index=edge_index, y=y)\n"
      ],
      "metadata": {
        "id": "H-b5w8qep0vf"
      },
      "execution_count": null,
      "outputs": []
    },
    {
      "cell_type": "code",
      "source": [
        "import torch.nn.functional as F\n",
        "from torch_geometric.nn import GCNConv, GATConv\n",
        "from torch_geometric.loader import DataLoader\n",
        "\n",
        "# Train & test helper\n",
        "def train(model, data, optimizer, criterion):\n",
        "    model.train()\n",
        "    optimizer.zero_grad()\n",
        "    out = model(data)\n",
        "    loss = criterion(out, data.y)\n",
        "    loss.backward()\n",
        "    optimizer.step()\n",
        "    return loss.item()\n",
        "\n",
        "def test(model, data):\n",
        "    model.eval()\n",
        "    out = model(data)\n",
        "    pred = out.argmax(dim=1)\n",
        "    acc = (pred == data.y).sum().item() / data.num_nodes\n",
        "    return acc\n"
      ],
      "metadata": {
        "id": "ORGDFH7cseCw"
      },
      "execution_count": null,
      "outputs": []
    },
    {
      "cell_type": "code",
      "source": [
        "import torch.nn as nn\n",
        "class GCN(nn.Module):\n",
        "    def __init__(self, in_channels, hidden_channels, out_channels):\n",
        "        super(GCN, self).__init__()\n",
        "        self.conv1 = GCNConv(in_channels, hidden_channels)\n",
        "        self.conv2 = GCNConv(hidden_channels, out_channels)\n",
        "\n",
        "    def forward(self, data):\n",
        "        x, edge_index = data.x, data.edge_index\n",
        "        x = F.relu(self.conv1(x, edge_index))\n",
        "        x = self.conv2(x, edge_index)\n",
        "        return x\n"
      ],
      "metadata": {
        "id": "te1WwTKPshhz"
      },
      "execution_count": null,
      "outputs": []
    },
    {
      "cell_type": "code",
      "source": [
        "class GAT(nn.Module):\n",
        "    def __init__(self, in_channels, hidden_channels, out_channels, heads=2):\n",
        "        super(GAT, self).__init__()\n",
        "        self.conv1 = GATConv(in_channels, hidden_channels, heads=heads)\n",
        "        self.conv2 = GATConv(hidden_channels * heads, out_channels, heads=1)\n",
        "\n",
        "    def forward(self, data):\n",
        "        x, edge_index = data.x, data.edge_index\n",
        "        x = F.relu(self.conv1(x, edge_index))\n",
        "        x = self.conv2(x, edge_index)\n",
        "        return x\n"
      ],
      "metadata": {
        "id": "mggmfaLGsl-U"
      },
      "execution_count": null,
      "outputs": []
    },
    {
      "cell_type": "code",
      "source": [
        "# Example: Train GCN\n",
        "model = GCN(in_channels=data.num_features, hidden_channels=32, out_channels=2)\n",
        "optimizer = torch.optim.Adam(model.parameters(), lr=0.01)\n",
        "criterion = torch.nn.CrossEntropyLoss()\n",
        "\n",
        "for epoch in range(1, 201):\n",
        "    loss = train(model, data, optimizer, criterion)\n",
        "    if epoch % 20 == 0:\n",
        "        acc = test(model, data)\n",
        "        print(f'Epoch {epoch}, Loss: {loss:.4f}, Accuracy: {acc:.4f}')\n"
      ],
      "metadata": {
        "colab": {
          "base_uri": "https://localhost:8080/"
        },
        "id": "txTsX8F8sovt",
        "outputId": "97ae3a0f-6549-464d-9322-18aeae1a8b39"
      },
      "execution_count": null,
      "outputs": [
        {
          "output_type": "stream",
          "name": "stdout",
          "text": [
            "Epoch 20, Loss: nan, Accuracy: 0.7786\n",
            "Epoch 40, Loss: nan, Accuracy: 0.7786\n",
            "Epoch 60, Loss: nan, Accuracy: 0.7786\n",
            "Epoch 80, Loss: nan, Accuracy: 0.7786\n",
            "Epoch 100, Loss: nan, Accuracy: 0.7786\n",
            "Epoch 120, Loss: nan, Accuracy: 0.7786\n"
          ]
        }
      ]
    },
    {
      "cell_type": "code",
      "source": [
        "from torch_geometric.nn import SGConv\n",
        "\n",
        "class SGC(torch.nn.Module):\n",
        "    def __init__(self, in_channels, out_channels):\n",
        "        super(SGC, self).__init__()\n",
        "        self.conv = SGConv(in_channels, out_channels, K=2, cached=True)\n",
        "\n",
        "    def forward(self, data):\n",
        "        x, edge_index = data.x, data.edge_index\n",
        "        x = self.conv(x, edge_index)\n",
        "        return x\n"
      ],
      "metadata": {
        "id": "NGbQ5FnrssOz"
      },
      "execution_count": null,
      "outputs": []
    },
    {
      "cell_type": "code",
      "source": [
        "from torch_geometric.nn import GCN2Conv\n",
        "\n",
        "class GCNII(torch.nn.Module):\n",
        "    def __init__(self, in_channels, hidden_channels, out_channels, num_layers=4, alpha=0.1, theta=0.5):\n",
        "        super(GCNII, self).__init__()\n",
        "        self.lins = torch.nn.ModuleList()\n",
        "        self.lins.append(torch.nn.Linear(in_channels, hidden_channels))\n",
        "        self.convs = torch.nn.ModuleList\n",
        "        for _ in range(num_layers):\n",
        "            self.convs.append(GCN2Conv(hidden_channels, alpha=alpha, theta=theta, layer=_ + 1))\n",
        "\n",
        "        self.lins.append(torch.nn.Linear(hidden_channels, out_channels))\n",
        "        self.relu = torch.nn.ReLU()\n",
        "\n",
        "    def forward(self, data):\n",
        "        x, edge_index = data.x, data.edge_index\n",
        "        x_0 = self.lins[0](x)\n",
        "        x = x_0\n",
        "        for conv in self.convs:\n",
        "            x = self.relu(conv(x, x_0, edge_index))\n",
        "        x = self.lins[-1](x)\n",
        "        return x\n"
      ],
      "metadata": {
        "id": "8VNrD1MNsvQE"
      },
      "execution_count": null,
      "outputs": []
    },
    {
      "cell_type": "code",
      "source": [
        "class H2GCN(torch.nn.Module):\n",
        "    def __init__(self, in_channels, hidden_channels, out_channels):\n",
        "        super(H2GCN, self).__init__()\n",
        "        self.lin1 = torch.nn.Linear(in_channels, hidden_channels)\n",
        "        self.lin2 = torch.nn.Linear(hidden_channels * 2, out_channels)\n",
        "\n",
        "    def forward(self, data):\n",
        "        x, edge_index = data.x, data.edge_index\n",
        "        # 1-hop\n",
        "        x_1 = torch_geometric.nn.conv.GCNConv(x.size(1), x.size(1))(x, edge_index)\n",
        "        # 2-hop (same operation again)\n",
        "        x_2 = torch_geometric.nn.conv.GCNConv(x.size(1), x.size(1))(x_1, edge_index)\n",
        "\n",
        "        x = self.lin1(x)\n",
        "        x_cat = torch.cat([x_1, x_2], dim=1)\n",
        "        x_out = self.lin2(x_cat)\n",
        "        return x_out\n"
      ],
      "metadata": {
        "id": "n1GL6VOSvtJy"
      },
      "execution_count": null,
      "outputs": []
    },
    {
      "cell_type": "code",
      "source": [
        "class GIoGNN(torch.nn.Module):\n",
        "    def __init__(self, in_channels, hidden_channels, out_channels):\n",
        "        super(GIoGNN, self).__init__()\n",
        "        self.conv = GCNConv(in_channels, hidden_channels)\n",
        "        self.global_pool = torch.nn.Linear(in_channels, hidden_channels)\n",
        "        self.lin = torch.nn.Linear(hidden_channels * 2, out_channels)\n",
        "\n",
        "    def forward(self, data):\n",
        "        x, edge_index = data.x, data.edge_index\n",
        "        local = self.conv(x, edge_index).relu()\n",
        "        global_feat = self.global_pool(torch.mean(x, dim=0, keepdim=True)).repeat(x.size(0), 1)\n",
        "        x_combined = torch.cat([local, global_feat], dim=1)\n",
        "        return self.lin(x_combined)\n"
      ],
      "metadata": {
        "id": "U_Mr1vl5vxqF"
      },
      "execution_count": null,
      "outputs": []
    },
    {
      "cell_type": "code",
      "source": [
        "import numpy as np\n",
        "from sklearn.metrics.pairwise import cosine_similarity\n",
        "\n",
        "# Make sure data.x is a NumPy array with no missing values\n",
        "features_np = data.x.cpu().numpy()\n",
        "\n",
        "# Optional sanity check\n",
        "features_np = np.nan_to_num(features_np)  # Replace NaN with 0\n",
        "\n",
        "# Compute cosine similarity matrix\n",
        "similarity_matrix = cosine_similarity(features_np)  # Shape: (num_nodes, num_nodes)\n",
        "\n",
        "\n",
        "# Threshold to build edges (e.g., similarity > 0.7)\n",
        "threshold = 0.7\n",
        "edges = []\n",
        "weights = []\n",
        "\n",
        "for i in range(len(similarity_matrix)):\n",
        "    for j in range(i + 1, len(similarity_matrix)):\n",
        "        sim = similarity_matrix[i][j]\n",
        "        if sim > threshold:\n",
        "            edges.append([i, j])\n",
        "            edges.append([j, i])\n",
        "            weights.append(sim)\n",
        "            weights.append(sim)\n",
        "\n",
        "# Convert to tensors\n",
        "edge_index = torch.tensor(edges, dtype=torch.long).t().contiguous()\n",
        "edge_weight = torch.tensor(weights, dtype=torch.float)\n"
      ],
      "metadata": {
        "id": "kXL-mWsYwIMH"
      },
      "execution_count": null,
      "outputs": []
    },
    {
      "cell_type": "code",
      "source": [
        "import torch.nn as nn\n",
        "import torch.nn.functional as F\n",
        "from torch_geometric.nn import GCNConv\n",
        "\n",
        "class SFEGNN(nn.Module):\n",
        "    def __init__(self, in_channels, hidden_channels, out_channels):\n",
        "        super(SFEGNN, self).__init__()\n",
        "        self.conv1 = GCNConv(in_channels, hidden_channels)\n",
        "        self.conv2 = GCNConv(hidden_channels, out_channels)\n",
        "\n",
        "    def forward(self, x, edge_index, edge_weight):\n",
        "        x = self.conv1(x, edge_index, edge_weight).relu()\n",
        "        x = self.conv2(x, edge_index, edge_weight)\n",
        "        return x\n",
        "\n",
        "\n"
      ],
      "metadata": {
        "id": "VhZAsI78x05H"
      },
      "execution_count": null,
      "outputs": []
    },
    {
      "cell_type": "code",
      "source": [
        "import torch.nn as nn\n",
        "import torch.nn.functional as F\n",
        "from torch_geometric.nn import GCNConv\n",
        "\n",
        "class SFEGNN(nn.Module):\n",
        "    def __init__(self, in_channels, hidden_channels, out_channels):\n",
        "        super(SFEGNN, self).__init__()\n",
        "        self.conv1 = GCNConv(in_channels, hidden_channels)\n",
        "        self.conv2 = GCNConv(hidden_channels, out_channels)\n",
        "\n",
        "    def forward(self, x, edge_index, edge_weight):\n",
        "        x = self.conv1(x, edge_index, edge_weight).relu()\n",
        "        x = self.conv2(x, edge_index, edge_weight)\n",
        "        return x\n"
      ],
      "metadata": {
        "id": "C2h7dDecx3XX"
      },
      "execution_count": null,
      "outputs": []
    },
    {
      "cell_type": "code",
      "source": [
        "model = SFEGNN(data.num_features, 32, 2)\n",
        "optimizer = torch.optim.Adam(model.parameters(), lr=0.01)\n",
        "criterion = torch.nn.CrossEntropyLoss()\n",
        "\n",
        "for epoch in range(1, 201):\n",
        "    model.train()\n",
        "    optimizer.zero_grad()\n",
        "    out = model(data.x, edge_index, edge_weight)\n",
        "    loss = criterion(out, data.y)\n",
        "    loss.backward()\n",
        "    optimizer.step()\n",
        "\n",
        "    if epoch % 20 == 0:\n",
        "        model.eval()\n",
        "        pred = out.argmax(dim=1)\n",
        "        acc = (pred == data.y).sum().item() / data.num_nodes\n",
        "        print(f'Epoch {epoch} - Loss: {loss.item():.4f}, Accuracy: {acc:.4f}')\n"
      ],
      "metadata": {
        "colab": {
          "base_uri": "https://localhost:8080/"
        },
        "id": "5y11o4RLA7Nx",
        "outputId": "3dc19e4f-3ee7-464c-d72b-fe97061c38da"
      },
      "execution_count": null,
      "outputs": [
        {
          "output_type": "stream",
          "name": "stdout",
          "text": [
            "Epoch 20 - Loss: nan, Accuracy: 0.7786\n",
            "Epoch 40 - Loss: nan, Accuracy: 0.7786\n",
            "Epoch 60 - Loss: nan, Accuracy: 0.7786\n",
            "Epoch 80 - Loss: nan, Accuracy: 0.7786\n",
            "Epoch 100 - Loss: nan, Accuracy: 0.7786\n",
            "Epoch 120 - Loss: nan, Accuracy: 0.7786\n",
            "Epoch 140 - Loss: nan, Accuracy: 0.7786\n",
            "Epoch 160 - Loss: nan, Accuracy: 0.7786\n",
            "Epoch 180 - Loss: nan, Accuracy: 0.7786\n",
            "Epoch 200 - Loss: nan, Accuracy: 0.7786\n"
          ]
        }
      ]
    }
  ]
}